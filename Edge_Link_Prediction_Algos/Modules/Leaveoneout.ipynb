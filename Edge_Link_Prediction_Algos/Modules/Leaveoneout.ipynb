{
 "cells": [
  {
   "cell_type": "code",
   "execution_count": 43,
   "metadata": {},
   "outputs": [],
   "source": [
    "from sklearn.model_selection import LeaveOneOut\n",
    "from sklearn.metrics import mean_squared_error\n",
    "import networkx as nx\n",
    "import math\n",
    "import sys\n",
    "import pandas as pd\n",
    "import numpy as np"
   ]
  },
  {
   "cell_type": "code",
   "execution_count": 44,
   "metadata": {},
   "outputs": [
    {
     "data": {
      "text/plain": [
       "35592"
      ]
     },
     "execution_count": 44,
     "metadata": {},
     "output_type": "execute_result"
    }
   ],
   "source": [
    "df = pd.read_csv('./OTCNet.csv')\n",
    "X =  df\n",
    "#y =  df['rating']\n",
    "X = X.values\n",
    "#y = y.values\n",
    "loo = LeaveOneOut()\n",
    "loo.get_n_splits(X)"
   ]
  },
  {
   "cell_type": "code",
   "execution_count": 45,
   "metadata": {},
   "outputs": [],
   "source": [
    "def initialize_scores(G):\n",
    "    fairness = {}\n",
    "    goodness = {}\n",
    "    \n",
    "    nodes = G.nodes()\n",
    "    #print(nodes)\n",
    "    for node in nodes:\n",
    "        fairness[node] = 1\n",
    "        try:\n",
    "            goodness[node] = G.in_degree(node, weight='weight')*1.0/G.in_degree(node)\n",
    "        except:\n",
    "            goodness[node] = 0\n",
    "    return fairness, goodness"
   ]
  },
  {
   "cell_type": "code",
   "execution_count": 46,
   "metadata": {},
   "outputs": [],
   "source": [
    "def compute_fairness_goodness(G):\n",
    "    fairness, goodness = initialize_scores(G)\n",
    "    \n",
    "    nodes = G.nodes()\n",
    "    iter = 0\n",
    "    while iter < 100:\n",
    "        df = 0\n",
    "        dg = 0\n",
    "        for node in nodes:\n",
    "            inedges = G.in_edges(node, data='weight')\n",
    "            g = 0\n",
    "            for edge in inedges:\n",
    "                g += fairness[edge[0]]*edge[2]\n",
    "\n",
    "            try:\n",
    "                dg += abs(g/len(inedges) - goodness[node])\n",
    "                goodness[node] = g/len(inedges)\n",
    "            except:\n",
    "                pass\n",
    "            \n",
    "        for node in nodes:\n",
    "            outedges = G.out_edges(node, data='weight')\n",
    "            f = 0\n",
    "            for edge in outedges:\n",
    "                f += 1.0 - abs(edge[2] - goodness[edge[1]])/2.0\n",
    "            try:\n",
    "                df += abs(f/len(outedges) - fairness[node])\n",
    "                fairness[node] = f/len(outedges)\n",
    "            except:\n",
    "                pass\n",
    "        \n",
    "        if df < math.pow(10, -6) and dg < math.pow(10, -6):\n",
    "            break\n",
    "        iter+=1\n",
    "    \n",
    "    return fairness, goodness"
   ]
  },
  {
   "cell_type": "code",
   "execution_count": 47,
   "metadata": {},
   "outputs": [
    {
     "name": "stdout",
     "output_type": "stream",
     "text": [
      "iteration 0\n",
      "iteration 1\n",
      "iteration 2\n",
      "iteration 3\n",
      "iteration 4\n",
      "iteration 5\n",
      "iteration 6\n",
      "iteration 7\n",
      "iteration 8\n",
      "iteration 9\n"
     ]
    }
   ],
   "source": [
    "fairness = {}\n",
    "goodness = {}\n",
    "fairness_test = {}\n",
    "goodness_test = {}\n",
    "itr = 10\n",
    "for train_index, test_index in loo.split(X):\n",
    "    if test_index[0] < (itr):\n",
    "        X_train, X_test = X[train_index], X[test_index]\n",
    "        G = nx.DiGraph()\n",
    "        for index in train_index:\n",
    "            G.add_edge(X_train[index-1][0], X_train[index-1][1], weight = float(X_train[index-1][2])) ## the weight should already be in the range of -1 to 1\n",
    "        fairness, goodness = compute_fairness_goodness(G)\n",
    "        try:\n",
    "            fairness_test[test_index[0]] = fairness[X_test[0][0]]\n",
    "        except:\n",
    "            fairness_test[test_index[0]] = 0\n",
    "            pass\n",
    "        try:\n",
    "            goodness_test[test_index[0]] = goodness[X_test[0][1]]\n",
    "        except:\n",
    "            goodness_test[test_index[0]] = 0\n",
    "            pass\n",
    "    else:\n",
    "        break\n",
    "    print('iteration', test_index[0])"
   ]
  },
  {
   "cell_type": "code",
   "execution_count": 48,
   "metadata": {},
   "outputs": [],
   "source": [
    "df['fairness'] = pd.Series(fairness_test, index=df.index, dtype=float)\n",
    "df['goodness'] = pd.Series(goodness_test, index=df.index, dtype=float)"
   ]
  },
  {
   "cell_type": "code",
   "execution_count": 49,
   "metadata": {},
   "outputs": [],
   "source": [
    "df = df.dropna()\n",
    "df.to_csv('./leaveoneout_fairness_goodness.csv')"
   ]
  },
  {
   "cell_type": "code",
   "execution_count": 50,
   "metadata": {},
   "outputs": [],
   "source": [
    "RMSE_fg_leave = 0\n",
    "RMSE_fg_leave += math.sqrt(mean_squared_error(df['rating'], df['fairness']*df['goodness']))"
   ]
  },
  {
   "cell_type": "code",
   "execution_count": 51,
   "metadata": {},
   "outputs": [
    {
     "data": {
      "text/plain": [
       "0.4095057156102173"
      ]
     },
     "execution_count": 51,
     "metadata": {},
     "output_type": "execute_result"
    }
   ],
   "source": [
    "RMSE_fg_leave"
   ]
  },
  {
   "cell_type": "code",
   "execution_count": 52,
   "metadata": {},
   "outputs": [
    {
     "data": {
      "text/plain": [
       "array([[ 1.        , -0.12052684],\n",
       "       [-0.12052684,  1.        ]])"
      ]
     },
     "execution_count": 52,
     "metadata": {},
     "output_type": "execute_result"
    }
   ],
   "source": [
    "# Pearson correlation coefficient\n",
    "np.corrcoef(df['rating'], df['fairness']*df['goodness'])"
   ]
  },
  {
   "cell_type": "code",
   "execution_count": null,
   "metadata": {},
   "outputs": [],
   "source": []
  }
 ],
 "metadata": {
  "kernelspec": {
   "display_name": "Python 3",
   "language": "python",
   "name": "python3"
  },
  "language_info": {
   "codemirror_mode": {
    "name": "ipython",
    "version": 3
   },
   "file_extension": ".py",
   "mimetype": "text/x-python",
   "name": "python",
   "nbconvert_exporter": "python",
   "pygments_lexer": "ipython3",
   "version": "3.7.0"
  }
 },
 "nbformat": 4,
 "nbformat_minor": 2
}
